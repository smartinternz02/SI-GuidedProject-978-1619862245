{
 "cells": [
  {
   "cell_type": "markdown",
   "metadata": {},
   "source": [
    "# Assignment Categorical Dataset ANN"
   ]
  },
  {
   "cell_type": "markdown",
   "metadata": {},
   "source": [
    "## 19R11A05K0 Varun Veesamshetty"
   ]
  },
  {
   "cell_type": "markdown",
   "metadata": {},
   "source": [
    "https://machinelearningmastery.com/results-for-standard-classification-and-regression-machine-learning-datasets/"
   ]
  },
  {
   "cell_type": "code",
   "execution_count": 1,
   "metadata": {},
   "outputs": [],
   "source": [
    "import numpy as np\n",
    "import pandas as pd"
   ]
  },
  {
   "cell_type": "code",
   "execution_count": 2,
   "metadata": {},
   "outputs": [],
   "source": [
    "ds=pd.read_csv(\"wheat.csv\")"
   ]
  },
  {
   "cell_type": "code",
   "execution_count": 3,
   "metadata": {},
   "outputs": [
    {
     "data": {
      "text/html": [
       "<div>\n",
       "<style scoped>\n",
       "    .dataframe tbody tr th:only-of-type {\n",
       "        vertical-align: middle;\n",
       "    }\n",
       "\n",
       "    .dataframe tbody tr th {\n",
       "        vertical-align: top;\n",
       "    }\n",
       "\n",
       "    .dataframe thead th {\n",
       "        text-align: right;\n",
       "    }\n",
       "</style>\n",
       "<table border=\"1\" class=\"dataframe\">\n",
       "  <thead>\n",
       "    <tr style=\"text-align: right;\">\n",
       "      <th></th>\n",
       "      <th>A</th>\n",
       "      <th>B</th>\n",
       "      <th>C</th>\n",
       "      <th>D</th>\n",
       "      <th>E</th>\n",
       "      <th>F</th>\n",
       "      <th>G</th>\n",
       "      <th>Output</th>\n",
       "    </tr>\n",
       "  </thead>\n",
       "  <tbody>\n",
       "    <tr>\n",
       "      <th>0</th>\n",
       "      <td>15.26</td>\n",
       "      <td>14.84</td>\n",
       "      <td>0.8710</td>\n",
       "      <td>5.763</td>\n",
       "      <td>3.312</td>\n",
       "      <td>2.221</td>\n",
       "      <td>5.220</td>\n",
       "      <td>1</td>\n",
       "    </tr>\n",
       "    <tr>\n",
       "      <th>1</th>\n",
       "      <td>14.88</td>\n",
       "      <td>14.57</td>\n",
       "      <td>0.8811</td>\n",
       "      <td>5.554</td>\n",
       "      <td>3.333</td>\n",
       "      <td>1.018</td>\n",
       "      <td>4.956</td>\n",
       "      <td>1</td>\n",
       "    </tr>\n",
       "    <tr>\n",
       "      <th>2</th>\n",
       "      <td>14.29</td>\n",
       "      <td>14.09</td>\n",
       "      <td>0.9050</td>\n",
       "      <td>5.291</td>\n",
       "      <td>3.337</td>\n",
       "      <td>2.699</td>\n",
       "      <td>4.825</td>\n",
       "      <td>1</td>\n",
       "    </tr>\n",
       "    <tr>\n",
       "      <th>3</th>\n",
       "      <td>13.84</td>\n",
       "      <td>13.94</td>\n",
       "      <td>0.8955</td>\n",
       "      <td>5.324</td>\n",
       "      <td>3.379</td>\n",
       "      <td>2.259</td>\n",
       "      <td>4.805</td>\n",
       "      <td>1</td>\n",
       "    </tr>\n",
       "    <tr>\n",
       "      <th>4</th>\n",
       "      <td>16.14</td>\n",
       "      <td>14.99</td>\n",
       "      <td>0.9034</td>\n",
       "      <td>5.658</td>\n",
       "      <td>3.562</td>\n",
       "      <td>1.355</td>\n",
       "      <td>5.175</td>\n",
       "      <td>1</td>\n",
       "    </tr>\n",
       "  </tbody>\n",
       "</table>\n",
       "</div>"
      ],
      "text/plain": [
       "       A      B       C      D      E      F      G  Output\n",
       "0  15.26  14.84  0.8710  5.763  3.312  2.221  5.220       1\n",
       "1  14.88  14.57  0.8811  5.554  3.333  1.018  4.956       1\n",
       "2  14.29  14.09  0.9050  5.291  3.337  2.699  4.825       1\n",
       "3  13.84  13.94  0.8955  5.324  3.379  2.259  4.805       1\n",
       "4  16.14  14.99  0.9034  5.658  3.562  1.355  5.175       1"
      ]
     },
     "execution_count": 3,
     "metadata": {},
     "output_type": "execute_result"
    }
   ],
   "source": [
    "ds.head()"
   ]
  },
  {
   "cell_type": "code",
   "execution_count": 4,
   "metadata": {},
   "outputs": [
    {
     "data": {
      "text/plain": [
       "A         0\n",
       "B         0\n",
       "C         0\n",
       "D         0\n",
       "E         0\n",
       "F         0\n",
       "G         0\n",
       "Output    0\n",
       "dtype: int64"
      ]
     },
     "execution_count": 4,
     "metadata": {},
     "output_type": "execute_result"
    }
   ],
   "source": [
    "ds.isnull().sum()"
   ]
  },
  {
   "cell_type": "code",
   "execution_count": 5,
   "metadata": {},
   "outputs": [
    {
     "data": {
      "text/plain": [
       "(210, 7)"
      ]
     },
     "execution_count": 5,
     "metadata": {},
     "output_type": "execute_result"
    }
   ],
   "source": [
    "x=ds.drop(\"Output\" , axis = 1)\n",
    "y=ds.Output\n",
    "x.shape"
   ]
  },
  {
   "cell_type": "code",
   "execution_count": 6,
   "metadata": {},
   "outputs": [],
   "source": [
    "from sklearn.model_selection import train_test_split\n",
    "x_train , x_test , y_train , y_test = train_test_split( x , y , test_size = 0.2 , random_state = 10000 )"
   ]
  },
  {
   "cell_type": "code",
   "execution_count": 7,
   "metadata": {},
   "outputs": [],
   "source": [
    "from sklearn.preprocessing import StandardScaler\n",
    "sc = StandardScaler()\n",
    "x_train = sc.fit_transform(x_train)\n",
    "x_test = sc.fit_transform(x_test)"
   ]
  },
  {
   "cell_type": "code",
   "execution_count": 8,
   "metadata": {},
   "outputs": [
    {
     "name": "stderr",
     "output_type": "stream",
     "text": [
      "Using TensorFlow backend.\n"
     ]
    }
   ],
   "source": [
    "from keras.models import Sequential\n",
    "model = Sequential()\n",
    "from keras.layers import Dense\n",
    "from keras.layers import Dropout\n",
    "model.add(Dense(512, activation = 'relu' , input_shape = (7,)))\n",
    "model.add(Dropout(0.2))\n",
    "model.add(Dense(512, activation = 'relu'))\n",
    "model.add(Dropout(0.2))\n",
    "model.add(Dense(10, activation = 'softmax'))"
   ]
  },
  {
   "cell_type": "code",
   "execution_count": 9,
   "metadata": {},
   "outputs": [],
   "source": [
    "model.compile(optimizer = 'rmsprop', loss = 'sparse_categorical_crossentropy', metrics = ['accuracy'])"
   ]
  },
  {
   "cell_type": "code",
   "execution_count": 10,
   "metadata": {},
   "outputs": [
    {
     "name": "stdout",
     "output_type": "stream",
     "text": [
      "WARNING:tensorflow:From C:\\Users\\Varun\\Anaconda3\\lib\\site-packages\\keras\\backend\\tensorflow_backend.py:422: The name tf.global_variables is deprecated. Please use tf.compat.v1.global_variables instead.\n",
      "\n",
      "Train on 168 samples, validate on 42 samples\n",
      "Epoch 1/15\n",
      "168/168 [==============================] - 0s 2ms/step - loss: 1.0743 - accuracy: 0.7143 - val_loss: 0.3018 - val_accuracy: 0.9286\n",
      "Epoch 2/15\n",
      "168/168 [==============================] - 0s 238us/step - loss: 0.3303 - accuracy: 0.9167 - val_loss: 0.1215 - val_accuracy: 0.9762\n",
      "Epoch 3/15\n",
      "168/168 [==============================] - 0s 238us/step - loss: 0.2464 - accuracy: 0.9167 - val_loss: 0.1467 - val_accuracy: 0.9762\n",
      "Epoch 4/15\n",
      "168/168 [==============================] - 0s 286us/step - loss: 0.2640 - accuracy: 0.8869 - val_loss: 0.0995 - val_accuracy: 0.9762\n",
      "Epoch 5/15\n",
      "168/168 [==============================] - 0s 238us/step - loss: 0.2000 - accuracy: 0.9405 - val_loss: 0.0992 - val_accuracy: 0.9762\n",
      "Epoch 6/15\n",
      "168/168 [==============================] - 0s 238us/step - loss: 0.1748 - accuracy: 0.9464 - val_loss: 0.0957 - val_accuracy: 0.9762\n",
      "Epoch 7/15\n",
      "168/168 [==============================] - 0s 238us/step - loss: 0.1709 - accuracy: 0.9286 - val_loss: 0.1718 - val_accuracy: 0.9286\n",
      "Epoch 8/15\n",
      "168/168 [==============================] - 0s 286us/step - loss: 0.1338 - accuracy: 0.9464 - val_loss: 0.1633 - val_accuracy: 0.9524\n",
      "Epoch 9/15\n",
      "168/168 [==============================] - 0s 286us/step - loss: 0.1628 - accuracy: 0.9345 - val_loss: 0.1229 - val_accuracy: 0.9524\n",
      "Epoch 10/15\n",
      "168/168 [==============================] - 0s 333us/step - loss: 0.1523 - accuracy: 0.9226 - val_loss: 0.1128 - val_accuracy: 0.9524\n",
      "Epoch 11/15\n",
      "168/168 [==============================] - 0s 238us/step - loss: 0.1219 - accuracy: 0.9702 - val_loss: 0.1496 - val_accuracy: 0.9524\n",
      "Epoch 12/15\n",
      "168/168 [==============================] - 0s 285us/step - loss: 0.1293 - accuracy: 0.9405 - val_loss: 0.4018 - val_accuracy: 0.7619\n",
      "Epoch 13/15\n",
      "168/168 [==============================] - 0s 286us/step - loss: 0.1172 - accuracy: 0.9583 - val_loss: 0.0938 - val_accuracy: 0.9524\n",
      "Epoch 14/15\n",
      "168/168 [==============================] - 0s 286us/step - loss: 0.0965 - accuracy: 0.9583 - val_loss: 0.2934 - val_accuracy: 0.8571\n",
      "Epoch 15/15\n",
      "168/168 [==============================] - 0s 238us/step - loss: 0.0998 - accuracy: 0.9583 - val_loss: 0.0899 - val_accuracy: 0.9762\n"
     ]
    },
    {
     "data": {
      "text/plain": [
       "<keras.callbacks.callbacks.History at 0x1a88ab295c0>"
      ]
     },
     "execution_count": 10,
     "metadata": {},
     "output_type": "execute_result"
    }
   ],
   "source": [
    "model.fit(x_train, y_train, batch_size = 32, epochs = 15, verbose = 1, validation_data = (x_test, y_test))"
   ]
  },
  {
   "cell_type": "code",
   "execution_count": 11,
   "metadata": {},
   "outputs": [
    {
     "name": "stdout",
     "output_type": "stream",
     "text": [
      "42/42 [==============================] - 0s 183us/step\n"
     ]
    }
   ],
   "source": [
    "score = model.evaluate(x_test, y_test , batch_size = 32)"
   ]
  },
  {
   "cell_type": "code",
   "execution_count": 12,
   "metadata": {},
   "outputs": [
    {
     "data": {
      "text/plain": [
       "[0.08994262665510178, 0.976190447807312]"
      ]
     },
     "execution_count": 12,
     "metadata": {},
     "output_type": "execute_result"
    }
   ],
   "source": [
    "score"
   ]
  }
 ],
 "metadata": {
  "kernelspec": {
   "display_name": "Python 3",
   "language": "python",
   "name": "python3"
  },
  "language_info": {
   "codemirror_mode": {
    "name": "ipython",
    "version": 3
   },
   "file_extension": ".py",
   "mimetype": "text/x-python",
   "name": "python",
   "nbconvert_exporter": "python",
   "pygments_lexer": "ipython3",
   "version": "3.7.3"
  }
 },
 "nbformat": 4,
 "nbformat_minor": 2
}
