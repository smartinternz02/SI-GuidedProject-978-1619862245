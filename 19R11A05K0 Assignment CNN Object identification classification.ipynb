{
 "cells": [
  {
   "cell_type": "markdown",
   "metadata": {},
   "source": [
    "# 19R11A05K0 Varun Veesamshetty"
   ]
  },
  {
   "cell_type": "markdown",
   "metadata": {},
   "source": [
    "# Assignment CNN Object identification classification"
   ]
  },
  {
   "cell_type": "code",
   "execution_count": 1,
   "metadata": {},
   "outputs": [
    {
     "name": "stderr",
     "output_type": "stream",
     "text": [
      "Using TensorFlow backend.\n"
     ]
    }
   ],
   "source": [
    "import numpy as np\n",
    "import pandas as pd\n",
    "from keras.datasets import fashion_mnist"
   ]
  },
  {
   "cell_type": "code",
   "execution_count": 2,
   "metadata": {},
   "outputs": [],
   "source": [
    "(train_X,train_Y), (test_X,test_Y) = fashion_mnist.load_data()"
   ]
  },
  {
   "cell_type": "code",
   "execution_count": 3,
   "metadata": {},
   "outputs": [
    {
     "data": {
      "text/plain": [
       "((60000, 28, 28, 1), (10000, 28, 28, 1))"
      ]
     },
     "execution_count": 3,
     "metadata": {},
     "output_type": "execute_result"
    }
   ],
   "source": [
    "train_X = train_X.reshape(-1, 28,28, 1)\n",
    "test_X = test_X.reshape(-1, 28,28, 1)\n",
    "train_X.shape, test_X.shape"
   ]
  },
  {
   "cell_type": "code",
   "execution_count": 4,
   "metadata": {},
   "outputs": [],
   "source": [
    "train_X = train_X.astype('float32')\n",
    "test_X = test_X.astype('float32')\n",
    "train_X = train_X / 255.\n",
    "test_X = test_X / 255."
   ]
  },
  {
   "cell_type": "code",
   "execution_count": 5,
   "metadata": {},
   "outputs": [
    {
     "data": {
      "text/plain": [
       "array([[0., 0., 0., ..., 0., 0., 1.],\n",
       "       [1., 0., 0., ..., 0., 0., 0.],\n",
       "       [1., 0., 0., ..., 0., 0., 0.],\n",
       "       ...,\n",
       "       [0., 0., 0., ..., 0., 0., 0.],\n",
       "       [1., 0., 0., ..., 0., 0., 0.],\n",
       "       [0., 0., 0., ..., 0., 0., 0.]], dtype=float32)"
      ]
     },
     "execution_count": 5,
     "metadata": {},
     "output_type": "execute_result"
    }
   ],
   "source": [
    "from keras.utils import to_categorical\n",
    "train_Y_one_hot = to_categorical(train_Y)\n",
    "test_Y_one_hot = to_categorical(test_Y)\n",
    "train_Y_one_hot"
   ]
  },
  {
   "cell_type": "code",
   "execution_count": 6,
   "metadata": {},
   "outputs": [
    {
     "data": {
      "text/plain": [
       "array([[0., 0., 0., ..., 0., 0., 1.],\n",
       "       [0., 0., 1., ..., 0., 0., 0.],\n",
       "       [0., 1., 0., ..., 0., 0., 0.],\n",
       "       ...,\n",
       "       [0., 0., 0., ..., 0., 1., 0.],\n",
       "       [0., 1., 0., ..., 0., 0., 0.],\n",
       "       [0., 0., 0., ..., 0., 0., 0.]], dtype=float32)"
      ]
     },
     "execution_count": 6,
     "metadata": {},
     "output_type": "execute_result"
    }
   ],
   "source": [
    "test_Y_one_hot"
   ]
  },
  {
   "cell_type": "code",
   "execution_count": 7,
   "metadata": {},
   "outputs": [],
   "source": [
    "from sklearn.model_selection import train_test_split\n",
    "train_X,valid_X,train_label,valid_label = train_test_split(train_X, train_Y_one_hot, test_size=0.2, random_state=13)"
   ]
  },
  {
   "cell_type": "code",
   "execution_count": 8,
   "metadata": {},
   "outputs": [],
   "source": [
    "from keras.models import Sequential,Input,Model\n",
    "model = Sequential()\n",
    "from keras.layers import Dense, Dropout, Flatten\n",
    "from keras.layers import Conv2D, MaxPooling2D\n",
    "from keras.layers.normalization import BatchNormalization\n",
    "from keras.layers.advanced_activations import LeakyReLU"
   ]
  },
  {
   "cell_type": "code",
   "execution_count": 9,
   "metadata": {},
   "outputs": [
    {
     "name": "stdout",
     "output_type": "stream",
     "text": [
      "WARNING:tensorflow:From C:\\Users\\Varun\\Anaconda3\\lib\\site-packages\\keras\\backend\\tensorflow_backend.py:4070: The name tf.nn.max_pool is deprecated. Please use tf.nn.max_pool2d instead.\n",
      "\n"
     ]
    }
   ],
   "source": [
    "model.add(Conv2D(32 , kernel_size=(3, 3),activation='linear',input_shape=(28,28,1),padding='same'))\n",
    "model.add(LeakyReLU(alpha=0.1))\n",
    "model.add(MaxPooling2D((2, 2),padding='same'))\n",
    "model.add(Conv2D(64 , (3, 3), activation='linear',padding='same'))\n",
    "model.add(LeakyReLU(alpha=0.1))\n",
    "model.add(MaxPooling2D(pool_size=(2, 2),padding='same'))\n",
    "model.add(Conv2D(128 , (3, 3), activation='linear',padding='same'))\n",
    "model.add(LeakyReLU(alpha=0.1))                  \n",
    "model.add(MaxPooling2D(pool_size=(2, 2),padding='same'))\n",
    "model.add(Flatten())\n",
    "model.add(Dense(128 , activation='linear'))\n",
    "model.add(LeakyReLU(alpha=0.1))                  \n",
    "model.add(Dense(10 , activation='softmax'))"
   ]
  },
  {
   "cell_type": "code",
   "execution_count": 10,
   "metadata": {},
   "outputs": [],
   "source": [
    "model.compile(loss='categorical_crossentropy', optimizer='adam',metrics=['accuracy'])"
   ]
  },
  {
   "cell_type": "code",
   "execution_count": 11,
   "metadata": {},
   "outputs": [
    {
     "name": "stdout",
     "output_type": "stream",
     "text": [
      "WARNING:tensorflow:From C:\\Users\\Varun\\Anaconda3\\lib\\site-packages\\keras\\backend\\tensorflow_backend.py:422: The name tf.global_variables is deprecated. Please use tf.compat.v1.global_variables instead.\n",
      "\n",
      "Train on 48000 samples, validate on 12000 samples\n",
      "Epoch 1/20\n",
      "48000/48000 [==============================] - 38s 791us/step - loss: 0.4553 - accuracy: 0.8347 - val_loss: 0.3322 - val_accuracy: 0.8792\n",
      "Epoch 2/20\n",
      "48000/48000 [==============================] - 38s 783us/step - loss: 0.2875 - accuracy: 0.8949 - val_loss: 0.2718 - val_accuracy: 0.8982\n",
      "Epoch 3/20\n",
      "48000/48000 [==============================] - 36s 760us/step - loss: 0.2436 - accuracy: 0.9098 - val_loss: 0.2607 - val_accuracy: 0.9020\n",
      "Epoch 4/20\n",
      "48000/48000 [==============================] - 36s 758us/step - loss: 0.2117 - accuracy: 0.9218 - val_loss: 0.2633 - val_accuracy: 0.9068\n",
      "Epoch 5/20\n",
      "48000/48000 [==============================] - 37s 776us/step - loss: 0.1843 - accuracy: 0.9316 - val_loss: 0.2703 - val_accuracy: 0.9042\n",
      "Epoch 6/20\n",
      "48000/48000 [==============================] - 36s 758us/step - loss: 0.1624 - accuracy: 0.9396 - val_loss: 0.2446 - val_accuracy: 0.9133\n",
      "Epoch 7/20\n",
      "48000/48000 [==============================] - 37s 768us/step - loss: 0.1407 - accuracy: 0.9467 - val_loss: 0.2202 - val_accuracy: 0.9259\n",
      "Epoch 8/20\n",
      "48000/48000 [==============================] - 37s 777us/step - loss: 0.1223 - accuracy: 0.9541 - val_loss: 0.2600 - val_accuracy: 0.9137\n",
      "Epoch 9/20\n",
      "48000/48000 [==============================] - 37s 770us/step - loss: 0.1044 - accuracy: 0.9612 - val_loss: 0.2564 - val_accuracy: 0.9209\n",
      "Epoch 10/20\n",
      "48000/48000 [==============================] - 37s 762us/step - loss: 0.0874 - accuracy: 0.9670 - val_loss: 0.2710 - val_accuracy: 0.9231\n",
      "Epoch 11/20\n",
      "48000/48000 [==============================] - 36s 757us/step - loss: 0.0756 - accuracy: 0.9713 - val_loss: 0.2774 - val_accuracy: 0.9222\n",
      "Epoch 12/20\n",
      "48000/48000 [==============================] - 37s 762us/step - loss: 0.0626 - accuracy: 0.9768 - val_loss: 0.2961 - val_accuracy: 0.9238\n",
      "Epoch 13/20\n",
      "48000/48000 [==============================] - 37s 761us/step - loss: 0.0551 - accuracy: 0.9791 - val_loss: 0.3193 - val_accuracy: 0.9222\n",
      "Epoch 14/20\n",
      "48000/48000 [==============================] - 37s 777us/step - loss: 0.0477 - accuracy: 0.9827 - val_loss: 0.3596 - val_accuracy: 0.9217\n",
      "Epoch 15/20\n",
      "48000/48000 [==============================] - 37s 763us/step - loss: 0.0447 - accuracy: 0.9836 - val_loss: 0.3580 - val_accuracy: 0.9236\n",
      "Epoch 16/20\n",
      "48000/48000 [==============================] - 36s 747us/step - loss: 0.0382 - accuracy: 0.9859 - val_loss: 0.4267 - val_accuracy: 0.9197\n",
      "Epoch 17/20\n",
      "48000/48000 [==============================] - 36s 759us/step - loss: 0.0351 - accuracy: 0.9871 - val_loss: 0.4015 - val_accuracy: 0.9228\n",
      "Epoch 18/20\n",
      "48000/48000 [==============================] - 41s 844us/step - loss: 0.0313 - accuracy: 0.9887 - val_loss: 0.3842 - val_accuracy: 0.9207\n",
      "Epoch 19/20\n",
      "48000/48000 [==============================] - 39s 814us/step - loss: 0.0326 - accuracy: 0.9883 - val_loss: 0.4438 - val_accuracy: 0.9234\n",
      "Epoch 20/20\n",
      "48000/48000 [==============================] - 38s 798us/step - loss: 0.0296 - accuracy: 0.9889 - val_loss: 0.5409 - val_accuracy: 0.9183\n"
     ]
    },
    {
     "data": {
      "text/plain": [
       "<keras.callbacks.callbacks.History at 0x29fd759be48>"
      ]
     },
     "execution_count": 11,
     "metadata": {},
     "output_type": "execute_result"
    }
   ],
   "source": [
    "model.fit(train_X, train_label, batch_size=64,epochs=20,verbose=1,validation_data=(valid_X, valid_label))"
   ]
  },
  {
   "cell_type": "code",
   "execution_count": 12,
   "metadata": {},
   "outputs": [
    {
     "data": {
      "text/plain": [
       "[0.5511022929104045, 0.9158999919891357]"
      ]
     },
     "execution_count": 12,
     "metadata": {},
     "output_type": "execute_result"
    }
   ],
   "source": [
    "score = model.evaluate(test_X, test_Y_one_hot, verbose=0)\n",
    "score"
   ]
  }
 ],
 "metadata": {
  "kernelspec": {
   "display_name": "Python 3",
   "language": "python",
   "name": "python3"
  },
  "language_info": {
   "codemirror_mode": {
    "name": "ipython",
    "version": 3
   },
   "file_extension": ".py",
   "mimetype": "text/x-python",
   "name": "python",
   "nbconvert_exporter": "python",
   "pygments_lexer": "ipython3",
   "version": "3.7.3"
  }
 },
 "nbformat": 4,
 "nbformat_minor": 2
}
