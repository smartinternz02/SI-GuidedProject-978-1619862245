{
 "cells": [
  {
   "cell_type": "markdown",
   "metadata": {},
   "source": [
    "# Assignment Binary Classification Dataset ANN"
   ]
  },
  {
   "cell_type": "markdown",
   "metadata": {},
   "source": [
    "## 19R11A05K0 Varun Veesamshetty"
   ]
  },
  {
   "cell_type": "markdown",
   "metadata": {},
   "source": [
    "https://machinelearningmastery.com/standard-machine-learning-datasets/"
   ]
  },
  {
   "cell_type": "markdown",
   "metadata": {},
   "source": [
    "### This uses Pima Indians Diabetes Dataset which involves predicting the onset of diabetes within 5 years in Pima Indians given medical details."
   ]
  },
  {
   "cell_type": "markdown",
   "metadata": {},
   "source": [
    "### The baseline performance of predicting the most prevalent class is a classification accuracy of approximately 65%. Top results achieve a classification accuracy of approximately 77%."
   ]
  },
  {
   "cell_type": "code",
   "execution_count": 188,
   "metadata": {},
   "outputs": [],
   "source": [
    "import numpy as np\n",
    "import pandas as pd"
   ]
  },
  {
   "cell_type": "code",
   "execution_count": 189,
   "metadata": {},
   "outputs": [],
   "source": [
    "ds=pd.read_csv(\"pima-indians-diabetes.csv\")"
   ]
  },
  {
   "cell_type": "code",
   "execution_count": 190,
   "metadata": {},
   "outputs": [
    {
     "data": {
      "text/html": [
       "<div>\n",
       "<style scoped>\n",
       "    .dataframe tbody tr th:only-of-type {\n",
       "        vertical-align: middle;\n",
       "    }\n",
       "\n",
       "    .dataframe tbody tr th {\n",
       "        vertical-align: top;\n",
       "    }\n",
       "\n",
       "    .dataframe thead th {\n",
       "        text-align: right;\n",
       "    }\n",
       "</style>\n",
       "<table border=\"1\" class=\"dataframe\">\n",
       "  <thead>\n",
       "    <tr style=\"text-align: right;\">\n",
       "      <th></th>\n",
       "      <th>A</th>\n",
       "      <th>B</th>\n",
       "      <th>C</th>\n",
       "      <th>D</th>\n",
       "      <th>E</th>\n",
       "      <th>F</th>\n",
       "      <th>G</th>\n",
       "      <th>H</th>\n",
       "      <th>Output</th>\n",
       "    </tr>\n",
       "  </thead>\n",
       "  <tbody>\n",
       "    <tr>\n",
       "      <th>0</th>\n",
       "      <td>6</td>\n",
       "      <td>148</td>\n",
       "      <td>72</td>\n",
       "      <td>35</td>\n",
       "      <td>0</td>\n",
       "      <td>33.6</td>\n",
       "      <td>0.627</td>\n",
       "      <td>50</td>\n",
       "      <td>1</td>\n",
       "    </tr>\n",
       "    <tr>\n",
       "      <th>1</th>\n",
       "      <td>1</td>\n",
       "      <td>85</td>\n",
       "      <td>66</td>\n",
       "      <td>29</td>\n",
       "      <td>0</td>\n",
       "      <td>26.6</td>\n",
       "      <td>0.351</td>\n",
       "      <td>31</td>\n",
       "      <td>0</td>\n",
       "    </tr>\n",
       "    <tr>\n",
       "      <th>2</th>\n",
       "      <td>8</td>\n",
       "      <td>183</td>\n",
       "      <td>64</td>\n",
       "      <td>0</td>\n",
       "      <td>0</td>\n",
       "      <td>23.3</td>\n",
       "      <td>0.672</td>\n",
       "      <td>32</td>\n",
       "      <td>1</td>\n",
       "    </tr>\n",
       "    <tr>\n",
       "      <th>3</th>\n",
       "      <td>1</td>\n",
       "      <td>89</td>\n",
       "      <td>66</td>\n",
       "      <td>23</td>\n",
       "      <td>94</td>\n",
       "      <td>28.1</td>\n",
       "      <td>0.167</td>\n",
       "      <td>21</td>\n",
       "      <td>0</td>\n",
       "    </tr>\n",
       "    <tr>\n",
       "      <th>4</th>\n",
       "      <td>0</td>\n",
       "      <td>137</td>\n",
       "      <td>40</td>\n",
       "      <td>35</td>\n",
       "      <td>168</td>\n",
       "      <td>43.1</td>\n",
       "      <td>2.288</td>\n",
       "      <td>33</td>\n",
       "      <td>1</td>\n",
       "    </tr>\n",
       "  </tbody>\n",
       "</table>\n",
       "</div>"
      ],
      "text/plain": [
       "   A    B   C   D    E     F      G   H  Output\n",
       "0  6  148  72  35    0  33.6  0.627  50       1\n",
       "1  1   85  66  29    0  26.6  0.351  31       0\n",
       "2  8  183  64   0    0  23.3  0.672  32       1\n",
       "3  1   89  66  23   94  28.1  0.167  21       0\n",
       "4  0  137  40  35  168  43.1  2.288  33       1"
      ]
     },
     "execution_count": 190,
     "metadata": {},
     "output_type": "execute_result"
    }
   ],
   "source": [
    "ds.head()"
   ]
  },
  {
   "cell_type": "code",
   "execution_count": 191,
   "metadata": {},
   "outputs": [
    {
     "data": {
      "text/plain": [
       "A         0\n",
       "B         0\n",
       "C         0\n",
       "D         0\n",
       "E         0\n",
       "F         0\n",
       "G         0\n",
       "H         0\n",
       "Output    0\n",
       "dtype: int64"
      ]
     },
     "execution_count": 191,
     "metadata": {},
     "output_type": "execute_result"
    }
   ],
   "source": [
    "ds.isnull().sum()"
   ]
  },
  {
   "cell_type": "code",
   "execution_count": 192,
   "metadata": {},
   "outputs": [],
   "source": [
    "x=ds.drop(\"Output\" , axis = 1)\n",
    "y=ds.Output"
   ]
  },
  {
   "cell_type": "code",
   "execution_count": 193,
   "metadata": {},
   "outputs": [],
   "source": [
    "from sklearn.model_selection import train_test_split\n",
    "x_train , x_test , y_train , y_test = train_test_split( x , y , test_size = 0.2 , random_state = 10000 )"
   ]
  },
  {
   "cell_type": "code",
   "execution_count": 194,
   "metadata": {},
   "outputs": [],
   "source": [
    "from sklearn.preprocessing import StandardScaler\n",
    "sc = StandardScaler()\n",
    "x_train = sc.fit_transform(x_train)\n",
    "x_test = sc.fit_transform(x_test)"
   ]
  },
  {
   "cell_type": "code",
   "execution_count": 199,
   "metadata": {},
   "outputs": [],
   "source": [
    "from keras.models import Sequential\n",
    "model = Sequential()\n",
    "from keras.layers import Dense\n",
    "model.add(Dense(12, input_dim = 8, kernel_initializer = 'uniform' , activation = 'relu'))\n",
    "model.add(Dense(8, kernel_initializer = 'uniform' , activation = 'relu'))\n",
    "model.add(Dense(1, kernel_initializer = 'uniform' , activation = 'sigmoid'))"
   ]
  },
  {
   "cell_type": "code",
   "execution_count": 200,
   "metadata": {},
   "outputs": [],
   "source": [
    "model.compile(optimizer = 'adam', loss = 'binary_crossentropy', metrics = ['accuracy'])"
   ]
  },
  {
   "cell_type": "code",
   "execution_count": 201,
   "metadata": {},
   "outputs": [
    {
     "name": "stdout",
     "output_type": "stream",
     "text": [
      "Train on 614 samples, validate on 154 samples\n",
      "Epoch 1/15\n",
      "614/614 [==============================] - 0s 634us/step - loss: 0.6917 - accuracy: 0.6564 - val_loss: 0.6898 - val_accuracy: 0.6429\n",
      "Epoch 2/15\n",
      "614/614 [==============================] - 0s 49us/step - loss: 0.6878 - accuracy: 0.6531 - val_loss: 0.6851 - val_accuracy: 0.6429\n",
      "Epoch 3/15\n",
      "614/614 [==============================] - 0s 43us/step - loss: 0.6806 - accuracy: 0.6531 - val_loss: 0.6755 - val_accuracy: 0.6429\n",
      "Epoch 4/15\n",
      "614/614 [==============================] - 0s 38us/step - loss: 0.6668 - accuracy: 0.6547 - val_loss: 0.6569 - val_accuracy: 0.6429\n",
      "Epoch 5/15\n",
      "614/614 [==============================] - 0s 44us/step - loss: 0.6424 - accuracy: 0.6743 - val_loss: 0.6275 - val_accuracy: 0.6688\n",
      "Epoch 6/15\n",
      "614/614 [==============================] - 0s 43us/step - loss: 0.6080 - accuracy: 0.7410 - val_loss: 0.5898 - val_accuracy: 0.7078\n",
      "Epoch 7/15\n",
      "614/614 [==============================] - 0s 42us/step - loss: 0.5665 - accuracy: 0.7671 - val_loss: 0.5531 - val_accuracy: 0.7273\n",
      "Epoch 8/15\n",
      "614/614 [==============================] - 0s 45us/step - loss: 0.5316 - accuracy: 0.7785 - val_loss: 0.5243 - val_accuracy: 0.7468\n",
      "Epoch 9/15\n",
      "614/614 [==============================] - 0s 40us/step - loss: 0.5069 - accuracy: 0.7818 - val_loss: 0.5053 - val_accuracy: 0.7597\n",
      "Epoch 10/15\n",
      "614/614 [==============================] - 0s 35us/step - loss: 0.4903 - accuracy: 0.7818 - val_loss: 0.4941 - val_accuracy: 0.7597\n",
      "Epoch 11/15\n",
      "614/614 [==============================] - 0s 38us/step - loss: 0.4803 - accuracy: 0.7752 - val_loss: 0.4870 - val_accuracy: 0.7662\n",
      "Epoch 12/15\n",
      "614/614 [==============================] - 0s 36us/step - loss: 0.4740 - accuracy: 0.7769 - val_loss: 0.4842 - val_accuracy: 0.7597\n",
      "Epoch 13/15\n",
      "614/614 [==============================] - 0s 41us/step - loss: 0.4706 - accuracy: 0.7785 - val_loss: 0.4818 - val_accuracy: 0.7597\n",
      "Epoch 14/15\n",
      "614/614 [==============================] - 0s 38us/step - loss: 0.4677 - accuracy: 0.7801 - val_loss: 0.4809 - val_accuracy: 0.7532\n",
      "Epoch 15/15\n",
      "614/614 [==============================] - 0s 41us/step - loss: 0.4660 - accuracy: 0.7850 - val_loss: 0.4808 - val_accuracy: 0.7532\n"
     ]
    },
    {
     "data": {
      "text/plain": [
       "<keras.callbacks.callbacks.History at 0x239d20208d0>"
      ]
     },
     "execution_count": 201,
     "metadata": {},
     "output_type": "execute_result"
    }
   ],
   "source": [
    "model.fit(x_train, y_train, batch_size = 32, epochs = 15, verbose = 1, validation_data = (x_test, y_test))"
   ]
  },
  {
   "cell_type": "code",
   "execution_count": 202,
   "metadata": {},
   "outputs": [
    {
     "name": "stdout",
     "output_type": "stream",
     "text": [
      "154/154 [==============================] - 0s 26us/step\n"
     ]
    }
   ],
   "source": [
    "score = model.evaluate(x_test, y_test , batch_size = 32)"
   ]
  },
  {
   "cell_type": "code",
   "execution_count": 203,
   "metadata": {},
   "outputs": [
    {
     "data": {
      "text/plain": [
       "[0.4808040191600849, 0.7532467246055603]"
      ]
     },
     "execution_count": 203,
     "metadata": {},
     "output_type": "execute_result"
    }
   ],
   "source": [
    "score"
   ]
  }
 ],
 "metadata": {
  "kernelspec": {
   "display_name": "Python 3",
   "language": "python",
   "name": "python3"
  },
  "language_info": {
   "codemirror_mode": {
    "name": "ipython",
    "version": 3
   },
   "file_extension": ".py",
   "mimetype": "text/x-python",
   "name": "python",
   "nbconvert_exporter": "python",
   "pygments_lexer": "ipython3",
   "version": "3.7.3"
  }
 },
 "nbformat": 4,
 "nbformat_minor": 2
}
