{
 "cells": [
  {
   "cell_type": "markdown",
   "metadata": {},
   "source": [
    "# Assignment Binary Classification Dataset ANN"
   ]
  },
  {
   "cell_type": "markdown",
   "metadata": {},
   "source": [
    "## 19R11A05K0 Varun Veesamshetty"
   ]
  },
  {
   "cell_type": "markdown",
   "metadata": {},
   "source": [
    "https://machinelearningmastery.com/standard-machine-learning-datasets/"
   ]
  },
  {
   "cell_type": "markdown",
   "metadata": {},
   "source": [
    "## The Swedish Auto Insurance Dataset involves predicting the total payment for all claims in thousands of Swedish Kronor, given the total number of claims."
   ]
  },
  {
   "cell_type": "code",
   "execution_count": 8,
   "metadata": {},
   "outputs": [],
   "source": [
    "import numpy as np\n",
    "import pandas as pd"
   ]
  },
  {
   "cell_type": "code",
   "execution_count": 9,
   "metadata": {},
   "outputs": [],
   "source": [
    "ds=pd.read_csv(\"auto.csv\")"
   ]
  },
  {
   "cell_type": "code",
   "execution_count": 10,
   "metadata": {},
   "outputs": [
    {
     "data": {
      "text/html": [
       "<div>\n",
       "<style scoped>\n",
       "    .dataframe tbody tr th:only-of-type {\n",
       "        vertical-align: middle;\n",
       "    }\n",
       "\n",
       "    .dataframe tbody tr th {\n",
       "        vertical-align: top;\n",
       "    }\n",
       "\n",
       "    .dataframe thead th {\n",
       "        text-align: right;\n",
       "    }\n",
       "</style>\n",
       "<table border=\"1\" class=\"dataframe\">\n",
       "  <thead>\n",
       "    <tr style=\"text-align: right;\">\n",
       "      <th></th>\n",
       "      <th>A</th>\n",
       "      <th>Output</th>\n",
       "    </tr>\n",
       "  </thead>\n",
       "  <tbody>\n",
       "    <tr>\n",
       "      <th>0</th>\n",
       "      <td>108</td>\n",
       "      <td>392.5</td>\n",
       "    </tr>\n",
       "    <tr>\n",
       "      <th>1</th>\n",
       "      <td>19</td>\n",
       "      <td>46.2</td>\n",
       "    </tr>\n",
       "    <tr>\n",
       "      <th>2</th>\n",
       "      <td>13</td>\n",
       "      <td>15.7</td>\n",
       "    </tr>\n",
       "    <tr>\n",
       "      <th>3</th>\n",
       "      <td>124</td>\n",
       "      <td>422.2</td>\n",
       "    </tr>\n",
       "    <tr>\n",
       "      <th>4</th>\n",
       "      <td>40</td>\n",
       "      <td>119.4</td>\n",
       "    </tr>\n",
       "  </tbody>\n",
       "</table>\n",
       "</div>"
      ],
      "text/plain": [
       "     A  Output\n",
       "0  108   392.5\n",
       "1   19    46.2\n",
       "2   13    15.7\n",
       "3  124   422.2\n",
       "4   40   119.4"
      ]
     },
     "execution_count": 10,
     "metadata": {},
     "output_type": "execute_result"
    }
   ],
   "source": [
    "ds.head()"
   ]
  },
  {
   "cell_type": "code",
   "execution_count": 11,
   "metadata": {},
   "outputs": [
    {
     "data": {
      "text/plain": [
       "A         0\n",
       "Output    0\n",
       "dtype: int64"
      ]
     },
     "execution_count": 11,
     "metadata": {},
     "output_type": "execute_result"
    }
   ],
   "source": [
    "ds.isnull().sum()"
   ]
  },
  {
   "cell_type": "code",
   "execution_count": 12,
   "metadata": {},
   "outputs": [],
   "source": [
    "x=ds.drop(\"Output\" , axis = 1)\n",
    "y=ds.Output"
   ]
  },
  {
   "cell_type": "code",
   "execution_count": 13,
   "metadata": {},
   "outputs": [],
   "source": [
    "from sklearn.model_selection import train_test_split\n",
    "x_train , x_test , y_train , y_test = train_test_split( x , y , test_size = 0.2 , random_state = 10000 )"
   ]
  },
  {
   "cell_type": "code",
   "execution_count": 14,
   "metadata": {},
   "outputs": [],
   "source": [
    "from sklearn.preprocessing import StandardScaler\n",
    "sc = StandardScaler()\n",
    "x_train = sc.fit_transform(x_train)\n",
    "x_test = sc.fit_transform(x_test)"
   ]
  },
  {
   "cell_type": "code",
   "execution_count": 15,
   "metadata": {},
   "outputs": [
    {
     "name": "stderr",
     "output_type": "stream",
     "text": [
      "Using TensorFlow backend.\n"
     ]
    }
   ],
   "source": [
    "from keras.models import Sequential\n",
    "model = Sequential()\n",
    "from keras.layers import Dense\n",
    "model.add(Dense(64 , activation = 'relu', input_dim=1))\n",
    "model.add(Dense(1))"
   ]
  },
  {
   "cell_type": "code",
   "execution_count": 16,
   "metadata": {},
   "outputs": [],
   "source": [
    "model.compile(optimizer = 'adam', loss = 'mse', metrics = ['mae'])"
   ]
  },
  {
   "cell_type": "code",
   "execution_count": 17,
   "metadata": {},
   "outputs": [
    {
     "name": "stdout",
     "output_type": "stream",
     "text": [
      "WARNING:tensorflow:From C:\\Users\\Varun\\Anaconda3\\lib\\site-packages\\keras\\backend\\tensorflow_backend.py:422: The name tf.global_variables is deprecated. Please use tf.compat.v1.global_variables instead.\n",
      "\n",
      "Train on 50 samples, validate on 13 samples\n",
      "Epoch 1/15\n",
      "50/50 [==============================] - 0s 4ms/step - loss: 16126.1246 - mae: 98.2311 - val_loss: 20651.5488 - val_mae: 97.4186\n",
      "Epoch 2/15\n",
      "50/50 [==============================] - 0s 160us/step - loss: 16118.7981 - mae: 98.2044 - val_loss: 20644.0039 - val_mae: 97.3933\n",
      "Epoch 3/15\n",
      "50/50 [==============================] - 0s 160us/step - loss: 16112.4007 - mae: 98.1778 - val_loss: 20636.3848 - val_mae: 97.3677\n",
      "Epoch 4/15\n",
      "50/50 [==============================] - 0s 160us/step - loss: 16105.7148 - mae: 98.1515 - val_loss: 20628.6855 - val_mae: 97.3418\n",
      "Epoch 5/15\n",
      "50/50 [==============================] - 0s 160us/step - loss: 16098.5913 - mae: 98.1240 - val_loss: 20621.1680 - val_mae: 97.3163\n",
      "Epoch 6/15\n",
      "50/50 [==============================] - 0s 159us/step - loss: 16093.0937 - mae: 98.0985 - val_loss: 20613.5312 - val_mae: 97.2906\n",
      "Epoch 7/15\n",
      "50/50 [==============================] - 0s 160us/step - loss: 16086.1646 - mae: 98.0727 - val_loss: 20605.9199 - val_mae: 97.2650\n",
      "Epoch 8/15\n",
      "50/50 [==============================] - 0s 160us/step - loss: 16079.2794 - mae: 98.0469 - val_loss: 20598.2715 - val_mae: 97.2393\n",
      "Epoch 9/15\n",
      "50/50 [==============================] - 0s 160us/step - loss: 16073.5705 - mae: 98.0229 - val_loss: 20590.5000 - val_mae: 97.2134\n",
      "Epoch 10/15\n",
      "50/50 [==============================] - 0s 159us/step - loss: 16066.9167 - mae: 97.9973 - val_loss: 20582.7695 - val_mae: 97.1874\n",
      "Epoch 11/15\n",
      "50/50 [==============================] - 0s 160us/step - loss: 16060.3378 - mae: 97.9718 - val_loss: 20575.0977 - val_mae: 97.1615\n",
      "Epoch 12/15\n",
      "50/50 [==============================] - 0s 159us/step - loss: 16052.8363 - mae: 97.9450 - val_loss: 20567.4766 - val_mae: 97.1355\n",
      "Epoch 13/15\n",
      "50/50 [==============================] - 0s 160us/step - loss: 16046.0559 - mae: 97.9195 - val_loss: 20559.7051 - val_mae: 97.1094\n",
      "Epoch 14/15\n",
      "50/50 [==============================] - 0s 160us/step - loss: 16039.5912 - mae: 97.8929 - val_loss: 20551.7539 - val_mae: 97.0830\n",
      "Epoch 15/15\n",
      "50/50 [==============================] - 0s 160us/step - loss: 16033.1452 - mae: 97.8669 - val_loss: 20543.6660 - val_mae: 97.0563\n"
     ]
    },
    {
     "data": {
      "text/plain": [
       "<keras.callbacks.callbacks.History at 0x1cae4382780>"
      ]
     },
     "execution_count": 17,
     "metadata": {},
     "output_type": "execute_result"
    }
   ],
   "source": [
    "model.fit(x_train, y_train, batch_size = 32, epochs = 15, verbose = 1, validation_data = (x_test, y_test))"
   ]
  },
  {
   "cell_type": "code",
   "execution_count": 18,
   "metadata": {},
   "outputs": [
    {
     "name": "stdout",
     "output_type": "stream",
     "text": [
      "\r",
      "13/13 [==============================] - 0s 0us/step\n"
     ]
    }
   ],
   "source": [
    "score = model.evaluate(x_test, y_test , batch_size = 32)"
   ]
  },
  {
   "cell_type": "code",
   "execution_count": 19,
   "metadata": {},
   "outputs": [
    {
     "data": {
      "text/plain": [
       "[20543.666015625, 97.05628967285156]"
      ]
     },
     "execution_count": 19,
     "metadata": {},
     "output_type": "execute_result"
    }
   ],
   "source": [
    "score"
   ]
  },
  {
   "cell_type": "markdown",
   "metadata": {},
   "source": [
    "### Here, score is caluculated using 'mae' - Mean Absolute Error metric"
   ]
  }
 ],
 "metadata": {
  "kernelspec": {
   "display_name": "Python 3",
   "language": "python",
   "name": "python3"
  },
  "language_info": {
   "codemirror_mode": {
    "name": "ipython",
    "version": 3
   },
   "file_extension": ".py",
   "mimetype": "text/x-python",
   "name": "python",
   "nbconvert_exporter": "python",
   "pygments_lexer": "ipython3",
   "version": "3.7.3"
  }
 },
 "nbformat": 4,
 "nbformat_minor": 2
}
