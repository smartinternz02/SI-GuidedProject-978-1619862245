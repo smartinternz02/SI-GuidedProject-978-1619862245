{
 "cells": [
  {
   "cell_type": "markdown",
   "metadata": {},
   "source": [
    "# Assignment Binary Classification Dataset ANN"
   ]
  },
  {
   "cell_type": "markdown",
   "metadata": {},
   "source": [
    "## 19R11A05K0 Varun Veesamshetty"
   ]
  },
  {
   "cell_type": "markdown",
   "metadata": {},
   "source": [
    "https://machinelearningmastery.com/standard-machine-learning-datasets/"
   ]
  },
  {
   "cell_type": "markdown",
   "metadata": {},
   "source": [
    "## The Boston House Price Dataset involves the prediction of a house price in thousands of dollars given details of the house and its neighborhood."
   ]
  },
  {
   "cell_type": "code",
   "execution_count": 46,
   "metadata": {},
   "outputs": [],
   "source": [
    "import numpy as np\n",
    "import pandas as pd"
   ]
  },
  {
   "cell_type": "code",
   "execution_count": 47,
   "metadata": {},
   "outputs": [],
   "source": [
    "ds=pd.read_csv(\"housing.csv\")"
   ]
  },
  {
   "cell_type": "code",
   "execution_count": 48,
   "metadata": {},
   "outputs": [
    {
     "data": {
      "text/html": [
       "<div>\n",
       "<style scoped>\n",
       "    .dataframe tbody tr th:only-of-type {\n",
       "        vertical-align: middle;\n",
       "    }\n",
       "\n",
       "    .dataframe tbody tr th {\n",
       "        vertical-align: top;\n",
       "    }\n",
       "\n",
       "    .dataframe thead th {\n",
       "        text-align: right;\n",
       "    }\n",
       "</style>\n",
       "<table border=\"1\" class=\"dataframe\">\n",
       "  <thead>\n",
       "    <tr style=\"text-align: right;\">\n",
       "      <th></th>\n",
       "      <th>A</th>\n",
       "      <th>B</th>\n",
       "      <th>C</th>\n",
       "      <th>D</th>\n",
       "      <th>E</th>\n",
       "      <th>F</th>\n",
       "      <th>G</th>\n",
       "      <th>H</th>\n",
       "      <th>I</th>\n",
       "      <th>J</th>\n",
       "      <th>K</th>\n",
       "      <th>L</th>\n",
       "      <th>M</th>\n",
       "      <th>Output</th>\n",
       "    </tr>\n",
       "  </thead>\n",
       "  <tbody>\n",
       "    <tr>\n",
       "      <th>0</th>\n",
       "      <td>0.00632</td>\n",
       "      <td>18.0</td>\n",
       "      <td>2.31</td>\n",
       "      <td>0</td>\n",
       "      <td>0.538</td>\n",
       "      <td>6.575</td>\n",
       "      <td>65.2</td>\n",
       "      <td>4.0900</td>\n",
       "      <td>1</td>\n",
       "      <td>296</td>\n",
       "      <td>15.3</td>\n",
       "      <td>396.90</td>\n",
       "      <td>4.98</td>\n",
       "      <td>24.0</td>\n",
       "    </tr>\n",
       "    <tr>\n",
       "      <th>1</th>\n",
       "      <td>0.02731</td>\n",
       "      <td>0.0</td>\n",
       "      <td>7.07</td>\n",
       "      <td>0</td>\n",
       "      <td>0.469</td>\n",
       "      <td>6.421</td>\n",
       "      <td>78.9</td>\n",
       "      <td>4.9671</td>\n",
       "      <td>2</td>\n",
       "      <td>242</td>\n",
       "      <td>17.8</td>\n",
       "      <td>396.90</td>\n",
       "      <td>9.14</td>\n",
       "      <td>21.6</td>\n",
       "    </tr>\n",
       "    <tr>\n",
       "      <th>2</th>\n",
       "      <td>0.02729</td>\n",
       "      <td>0.0</td>\n",
       "      <td>7.07</td>\n",
       "      <td>0</td>\n",
       "      <td>0.469</td>\n",
       "      <td>7.185</td>\n",
       "      <td>61.1</td>\n",
       "      <td>4.9671</td>\n",
       "      <td>2</td>\n",
       "      <td>242</td>\n",
       "      <td>17.8</td>\n",
       "      <td>392.83</td>\n",
       "      <td>4.03</td>\n",
       "      <td>34.7</td>\n",
       "    </tr>\n",
       "    <tr>\n",
       "      <th>3</th>\n",
       "      <td>0.03237</td>\n",
       "      <td>0.0</td>\n",
       "      <td>2.18</td>\n",
       "      <td>0</td>\n",
       "      <td>0.458</td>\n",
       "      <td>6.998</td>\n",
       "      <td>45.8</td>\n",
       "      <td>6.0622</td>\n",
       "      <td>3</td>\n",
       "      <td>222</td>\n",
       "      <td>18.7</td>\n",
       "      <td>394.63</td>\n",
       "      <td>2.94</td>\n",
       "      <td>33.4</td>\n",
       "    </tr>\n",
       "    <tr>\n",
       "      <th>4</th>\n",
       "      <td>0.06905</td>\n",
       "      <td>0.0</td>\n",
       "      <td>2.18</td>\n",
       "      <td>0</td>\n",
       "      <td>0.458</td>\n",
       "      <td>7.147</td>\n",
       "      <td>54.2</td>\n",
       "      <td>6.0622</td>\n",
       "      <td>3</td>\n",
       "      <td>222</td>\n",
       "      <td>18.7</td>\n",
       "      <td>396.90</td>\n",
       "      <td>5.33</td>\n",
       "      <td>36.2</td>\n",
       "    </tr>\n",
       "  </tbody>\n",
       "</table>\n",
       "</div>"
      ],
      "text/plain": [
       "         A     B     C  D      E      F     G       H  I    J     K       L  \\\n",
       "0  0.00632  18.0  2.31  0  0.538  6.575  65.2  4.0900  1  296  15.3  396.90   \n",
       "1  0.02731   0.0  7.07  0  0.469  6.421  78.9  4.9671  2  242  17.8  396.90   \n",
       "2  0.02729   0.0  7.07  0  0.469  7.185  61.1  4.9671  2  242  17.8  392.83   \n",
       "3  0.03237   0.0  2.18  0  0.458  6.998  45.8  6.0622  3  222  18.7  394.63   \n",
       "4  0.06905   0.0  2.18  0  0.458  7.147  54.2  6.0622  3  222  18.7  396.90   \n",
       "\n",
       "      M  Output  \n",
       "0  4.98    24.0  \n",
       "1  9.14    21.6  \n",
       "2  4.03    34.7  \n",
       "3  2.94    33.4  \n",
       "4  5.33    36.2  "
      ]
     },
     "execution_count": 48,
     "metadata": {},
     "output_type": "execute_result"
    }
   ],
   "source": [
    "ds.head()"
   ]
  },
  {
   "cell_type": "code",
   "execution_count": 49,
   "metadata": {},
   "outputs": [
    {
     "data": {
      "text/plain": [
       "A         0\n",
       "B         0\n",
       "C         0\n",
       "D         0\n",
       "E         0\n",
       "F         0\n",
       "G         0\n",
       "H         0\n",
       "I         0\n",
       "J         0\n",
       "K         0\n",
       "L         0\n",
       "M         0\n",
       "Output    0\n",
       "dtype: int64"
      ]
     },
     "execution_count": 49,
     "metadata": {},
     "output_type": "execute_result"
    }
   ],
   "source": [
    "ds.isnull().sum()"
   ]
  },
  {
   "cell_type": "code",
   "execution_count": 50,
   "metadata": {},
   "outputs": [],
   "source": [
    "x=ds.drop(\"Output\" , axis = 1)\n",
    "y=ds.Output"
   ]
  },
  {
   "cell_type": "code",
   "execution_count": 51,
   "metadata": {},
   "outputs": [],
   "source": [
    "from sklearn.model_selection import train_test_split\n",
    "x_train , x_test , y_train , y_test = train_test_split( x , y , test_size = 0.2 , random_state = 10000 )"
   ]
  },
  {
   "cell_type": "code",
   "execution_count": 52,
   "metadata": {},
   "outputs": [],
   "source": [
    "from sklearn.preprocessing import StandardScaler\n",
    "sc = StandardScaler()\n",
    "x_train = sc.fit_transform(x_train)\n",
    "x_test = sc.fit_transform(x_test)"
   ]
  },
  {
   "cell_type": "code",
   "execution_count": 53,
   "metadata": {},
   "outputs": [],
   "source": [
    "from keras.models import Sequential\n",
    "model = Sequential()\n",
    "from keras.layers import Dense\n",
    "model.add(Dense(64 , activation = 'relu', input_dim=13))\n",
    "model.add(Dense(1))"
   ]
  },
  {
   "cell_type": "code",
   "execution_count": 54,
   "metadata": {},
   "outputs": [],
   "source": [
    "model.compile(optimizer = 'adam', loss = 'mse', metrics = ['mae'])"
   ]
  },
  {
   "cell_type": "code",
   "execution_count": 55,
   "metadata": {},
   "outputs": [
    {
     "name": "stdout",
     "output_type": "stream",
     "text": [
      "Train on 404 samples, validate on 102 samples\n",
      "Epoch 1/15\n",
      "404/404 [==============================] - 0s 574us/step - loss: 575.5125 - mae: 22.2896 - val_loss: 623.5799 - val_mae: 22.8788\n",
      "Epoch 2/15\n",
      "404/404 [==============================] - 0s 59us/step - loss: 551.6854 - mae: 21.8108 - val_loss: 599.7061 - val_mae: 22.4107\n",
      "Epoch 3/15\n",
      "404/404 [==============================] - 0s 59us/step - loss: 528.6006 - mae: 21.3279 - val_loss: 574.8890 - val_mae: 21.9186\n",
      "Epoch 4/15\n",
      "404/404 [==============================] - 0s 40us/step - loss: 504.0735 - mae: 20.8114 - val_loss: 549.2322 - val_mae: 21.3899\n",
      "Epoch 5/15\n",
      "404/404 [==============================] - 0s 40us/step - loss: 478.7512 - mae: 20.2576 - val_loss: 521.6608 - val_mae: 20.8092\n",
      "Epoch 6/15\n",
      "404/404 [==============================] - 0s 59us/step - loss: 451.4594 - mae: 19.6375 - val_loss: 492.9477 - val_mae: 20.1788\n",
      "Epoch 7/15\n",
      "404/404 [==============================] - 0s 59us/step - loss: 423.1103 - mae: 18.9659 - val_loss: 462.6775 - val_mae: 19.4907\n",
      "Epoch 8/15\n",
      "404/404 [==============================] - 0s 59us/step - loss: 393.2631 - mae: 18.2383 - val_loss: 431.6043 - val_mae: 18.7495\n",
      "Epoch 9/15\n",
      "404/404 [==============================] - 0s 59us/step - loss: 362.6718 - mae: 17.4429 - val_loss: 399.6579 - val_mae: 17.9434\n",
      "Epoch 10/15\n",
      "404/404 [==============================] - 0s 59us/step - loss: 331.9311 - mae: 16.6030 - val_loss: 367.0030 - val_mae: 17.0827\n",
      "Epoch 11/15\n",
      "404/404 [==============================] - 0s 40us/step - loss: 301.1029 - mae: 15.7110 - val_loss: 334.4597 - val_mae: 16.1631\n",
      "Epoch 12/15\n",
      "404/404 [==============================] - 0s 59us/step - loss: 270.9089 - mae: 14.7600 - val_loss: 302.7100 - val_mae: 15.2086\n",
      "Epoch 13/15\n",
      "404/404 [==============================] - 0s 59us/step - loss: 241.4310 - mae: 13.7933 - val_loss: 273.0681 - val_mae: 14.2393\n",
      "Epoch 14/15\n",
      "404/404 [==============================] - 0s 59us/step - loss: 214.9645 - mae: 12.8225 - val_loss: 244.3998 - val_mae: 13.2409\n",
      "Epoch 15/15\n",
      "404/404 [==============================] - 0s 59us/step - loss: 190.0189 - mae: 11.8918 - val_loss: 218.1748 - val_mae: 12.2730\n"
     ]
    },
    {
     "data": {
      "text/plain": [
       "<keras.callbacks.callbacks.History at 0x191824f2ef0>"
      ]
     },
     "execution_count": 55,
     "metadata": {},
     "output_type": "execute_result"
    }
   ],
   "source": [
    "model.fit(x_train, y_train, batch_size = 32, epochs = 15, verbose = 1, validation_data = (x_test, y_test))"
   ]
  },
  {
   "cell_type": "code",
   "execution_count": 56,
   "metadata": {},
   "outputs": [
    {
     "name": "stdout",
     "output_type": "stream",
     "text": [
      "102/102 [==============================] - 0s 78us/step\n"
     ]
    }
   ],
   "source": [
    "score = model.evaluate(x_test, y_test , batch_size = 32)"
   ]
  },
  {
   "cell_type": "code",
   "execution_count": 57,
   "metadata": {},
   "outputs": [
    {
     "data": {
      "text/plain": [
       "[218.17483759861366, 12.272995948791504]"
      ]
     },
     "execution_count": 57,
     "metadata": {},
     "output_type": "execute_result"
    }
   ],
   "source": [
    "score"
   ]
  },
  {
   "cell_type": "markdown",
   "metadata": {},
   "source": [
    "### Here, score is caluculated using 'mae' - Mean Absolute Error metric"
   ]
  }
 ],
 "metadata": {
  "kernelspec": {
   "display_name": "Python 3",
   "language": "python",
   "name": "python3"
  },
  "language_info": {
   "codemirror_mode": {
    "name": "ipython",
    "version": 3
   },
   "file_extension": ".py",
   "mimetype": "text/x-python",
   "name": "python",
   "nbconvert_exporter": "python",
   "pygments_lexer": "ipython3",
   "version": "3.7.3"
  }
 },
 "nbformat": 4,
 "nbformat_minor": 2
}
